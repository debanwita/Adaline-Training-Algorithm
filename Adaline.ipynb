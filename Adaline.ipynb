{
 "cells": [
  {
   "cell_type": "code",
   "execution_count": 9,
   "metadata": {},
   "outputs": [],
   "source": [
    "import numpy as np\n",
    "import random\n",
    "import math\n"
   ]
  },
  {
   "cell_type": "code",
   "execution_count": 18,
   "metadata": {},
   "outputs": [
    {
     "name": "stdout",
     "output_type": "stream",
     "text": [
      "Input the learning rate:\n",
      "0.4\n",
      "*************REALIZATION OF AND GATE*************\n",
      "X0 \t X1 \t X2 \t Yin \t \t Yout \t t \t \tW0 \t \t W1 \t \t W2\n",
      "\n",
      "1.0 \t 1.0 \t 1.0 \t [1.42081874] \t 1.0 \t 1.0 \t [0.27125285] \t [0.49546705] \t [0.65409884]\n",
      "1.0 \t 1.0 \t -1.0 \t [0.11262106] \t 1.0 \t -1.0 \t [-0.17379558] \t [0.05041863] \t [1.09914726]\n",
      "1.0 \t -1.0 \t 1.0 \t [0.87493306] \t 1.0 \t -1.0 \t [-0.9237688] \t [0.80039185] \t [0.34917404]\n",
      "1.0 \t -1.0 \t -1.0 \t [-2.07333469] \t -1.0 \t -1.0 \t [-0.9237688] \t [0.80039185] \t [0.34917404]\n",
      "-------------------------------------------------------------------------------------------------------\n",
      "X0 \t X1 \t X2 \t Yin \t \t Yout \t t \t \tW0 \t \t W1 \t \t W2\n",
      "\n",
      "1.0 \t 1.0 \t 1.0 \t [0.22579709] \t 1.0 \t 1.0 \t [-0.9237688] \t [0.80039185] \t [0.34917404]\n",
      "1.0 \t 1.0 \t -1.0 \t [-0.47255099] \t -1.0 \t -1.0 \t [-0.9237688] \t [0.80039185] \t [0.34917404]\n",
      "1.0 \t -1.0 \t 1.0 \t [-1.37498661] \t -1.0 \t -1.0 \t [-0.9237688] \t [0.80039185] \t [0.34917404]\n",
      "1.0 \t -1.0 \t -1.0 \t [-2.07333469] \t -1.0 \t -1.0 \t [-0.9237688] \t [0.80039185] \t [0.34917404]\n",
      "-------------------------------------------------------------------------------------------------------\n"
     ]
    }
   ],
   "source": [
    "class Adaline(object):\n",
    "    #AND gate realization\n",
    "    def __init__(self, rate):\n",
    "        #initialization\n",
    "        self.rate = rate #0.2\n",
    "        self.weight = np.random.rand(3,1)\n",
    "        #self.weight = np.array(([0.25, 0.25, 0.25]), dtype=float)\n",
    "        self.Input = np.array(([1, 1, 1], [1, 1, -1], [1, -1, 1],[1, -1, -1]), dtype=float)\n",
    "        self.target = np.array(([1, -1, -1, -1]), dtype=float)\n",
    "    \n",
    "    def bipolar(self,yin):\n",
    "        if ( yin >= 0):\n",
    "            return 1\n",
    "        else:\n",
    "            return -1\n",
    "        \n",
    "        \n",
    "    def logic_gate(self):\n",
    "        self.y_out = np.zeros(4, dtype=float)\n",
    "        #Implementing Adaline  algorithm\n",
    "        print(\"*************REALIZATION OF AND GATE*************\")\n",
    "        for epoch in range(10):\n",
    "            print(\"X0\", \"\\t\" , \"X1\", \"\\t\", \"X2\", \"\\t\", \"Yin\", \"\\t\", \"\\t\", \"Yout\", \"\\t\" , \"t\", \"\\t\", \"\\t\" \"W0\", \"\\t\",\"\\t\", \"W1\", \"\\t\",\"\\t\", \"W2\")\n",
    "            print()\n",
    "            for i in range(len(self.Input)):\n",
    "                yin = 0.0\n",
    "                for j in range(len(self.Input[i])):\n",
    "                    yin = yin + (self.weight[j]*self.Input[i][j])\n",
    "                    \n",
    "                self.y_out[i] = self.bipolar(yin)\n",
    "                if(self.y_out[i] != self.target[i]):\n",
    "                    for k in range(len(self.weight)):\n",
    "                        self.weight[k] = self.weight[k] + (self.rate*(self.target[i] - yin ) * self.Input[i][k])\n",
    "                    \n",
    "                print (self.Input[i][0], \"\\t\", self.Input[i][1], \"\\t\", self.Input[i][2] , \"\\t\", yin, \"\\t\", self.y_out[i], \"\\t\", self.target[i], \"\\t\", self.weight[0], \"\\t\", self.weight[1], \"\\t\", self.weight[2])\n",
    " \n",
    "            flag = 1\n",
    "            for k1 in range(len(self.target)):\n",
    "                 if( self.target[k1] != self.y_out[k1]):\n",
    "                    flag = 0\n",
    "                    break\n",
    "            print(\"-------------------------------------------------------------------------------------------------------\")            \n",
    "            if( flag == 1 ) :\n",
    "                return\n",
    "            \n",
    "print(\"Input the learning rate:\")            \n",
    "r = input()                \n",
    "A = Adaline(float(r)) \n",
    "A.logic_gate()\n",
    "            \n",
    "        "
   ]
  },
  {
   "cell_type": "code",
   "execution_count": null,
   "metadata": {},
   "outputs": [],
   "source": []
  }
 ],
 "metadata": {
  "kernelspec": {
   "display_name": "Python 3",
   "language": "python",
   "name": "python3"
  },
  "language_info": {
   "codemirror_mode": {
    "name": "ipython",
    "version": 3
   },
   "file_extension": ".py",
   "mimetype": "text/x-python",
   "name": "python",
   "nbconvert_exporter": "python",
   "pygments_lexer": "ipython3",
   "version": "3.7.3"
  }
 },
 "nbformat": 4,
 "nbformat_minor": 2
}
